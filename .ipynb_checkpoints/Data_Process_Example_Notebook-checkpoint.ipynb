{
 "cells": [
  {
   "cell_type": "markdown",
   "id": "f20e4e18-560a-40aa-bb2a-c448657a780c",
   "metadata": {},
   "source": [
    "\n",
    "## Data Process Example of Robust Image-Based Cell Annotator (RIBCA)\n",
    "\n",
    "This is an example script showing how to process the original marker images into small crops for model training or label generation. We provide two versions of this process:\n",
    "\n",
    "1. **CSV Version**:\n",
    "   - Requires a `.csv` metadata file.\n",
    "   - Cropping steps include an extra step to match the centroid of each cell within the mask with the 'x' and 'y' information in metadata.\n",
    "   - If no centroid matches, a pseudo-mask will be generated.\n",
    "\n",
    "2. **Segmentation Version**:\n",
    "   - No `.csv` metadata file required.\n",
    "   - The cropping steps are based on the segmentation (all the unique segments in the mask).\n",
    "\n",
    "---\n",
    "\n",
    "### Folder Structure:\n",
    "\n",
    "Organize the data in the following structure:\n",
    "\n",
    "example_data/                                                   \n",
    "|── marker/ &nbsp;&nbsp;&nbsp; &nbsp;&nbsp;&nbsp; &nbsp;&nbsp;&nbsp; &nbsp;&nbsp;&nbsp;&nbsp;&nbsp;&nbsp; &nbsp;&nbsp;&nbsp;# Place all multiplexed images in the \"marker\" folder <br>\n",
    "&nbsp;&nbsp;&nbsp;&nbsp;└── XXXX_marker.tiff         <br>\n",
    "|── mask/   &nbsp;&nbsp;&nbsp; &nbsp;&nbsp;&nbsp;&nbsp;&nbsp;&nbsp; &nbsp;&nbsp;&nbsp;&nbsp;&nbsp;&nbsp; &nbsp;&nbsp;&nbsp; # Place all segmentations in the \"mask\" folder <br>\n",
    "&nbsp;&nbsp;&nbsp;&nbsp;└── XXXX_mask.tif &nbsp;(or .npy, .png format)    <br>\n",
    "|__ metadata.csv &nbsp;&nbsp;&nbsp; &nbsp;&nbsp;&nbsp;&nbsp;&nbsp;&nbsp; &nbsp;&nbsp;&nbsp; # Required for the \"CSV Version\"; not needed for the \"Segmentation Version\" <br>\n",
    "\n",
    "Ensure that the corresponding marker and mask files have the same prefix. The function would automatically align the name of markers and masks by their prefix.\n",
    "\n",
    "If a `.csv` metadata file is provided, ensure it contains the following:\n",
    "\n",
    "1. Each row represents information about a single cell.\n",
    "2. Columns `x` and `y` should indicate the coordinates of the cell's centroid.\n",
    "3. A `file_prefix` column should specify which files the cell belongs to.\n",
    "4. If cell annotations are included, they should be in the `cell_type` column.\n"
   ]
  },
  {
   "cell_type": "markdown",
   "id": "e28d21bb-dd9c-4843-a549-58ae20318eab",
   "metadata": {},
   "source": [
    "### 1. CSV version\n",
    "This is an example of \"CSV version\" using one cropped intestine tissue marker and mask.\n"
   ]
  },
  {
   "cell_type": "code",
   "execution_count": 1,
   "id": "99dd460c-8e68-45f8-8ca5-4e0a4e0b4636",
   "metadata": {},
   "outputs": [],
   "source": [
    "import pandas as pd\n",
    "import os\n",
    "import sys \n",
    "sys.path.append(\"utils\")\n",
    "from crop_cells_csv import create_dataset_csv\n"
   ]
  },
  {
   "cell_type": "code",
   "execution_count": 2,
   "id": "eb7138fc-09b0-45ee-9653-32cafc1c8b81",
   "metadata": {},
   "outputs": [
    {
     "name": "stdout",
     "output_type": "stream",
     "text": [
      "['reg043_B_mask.tiff']\n",
      "['reg043_B_marker.tiff']\n",
      "Processing mask file: reg043_B_mask.tiff\n",
      "Processing marker file: reg043_B_marker.tiff\n",
      "mask shape: (200, 250)\n",
      "marker shape: (92, 200, 250)\n"
     ]
    },
    {
     "name": "stderr",
     "output_type": "stream",
     "text": [
      "100%|██████████| 59/59 [00:00<00:00, 138.09it/s]"
     ]
    },
    {
     "name": "stdout",
     "output_type": "stream",
     "text": [
      "Fake mask ratio: 0.11864406779661017\n"
     ]
    },
    {
     "name": "stderr",
     "output_type": "stream",
     "text": [
      "\n"
     ]
    }
   ],
   "source": [
    "# read the csv file and define the data folder(which contains 'marker' and 'mask' folder)\n",
    "df_path = \"example_data_csv/CRC_clusters_neighborhoods_markers.csv\"   \n",
    "df = pd.read_csv(df_path)    \n",
    "\n",
    "\n",
    "# define the data folder which contains 'marker' and 'mask' folder\n",
    "# define the save path which doesn't need to be inside the data_path\n",
    "data_path = \"example_data_csv/\"   \n",
    "save_path = os.path.join(data_path, \"dataset\")\n",
    "\n",
    "create_dataset_csv(df, \n",
    "                   data_path, \n",
    "                   save_path,               # save_path folder can be automatically generated\n",
    "                   patch_size = 40,         # Define the patch_size;\n",
    "                   minmax_norm = True,      # Set to True if the image hasn't been normalized to a (-1, 1) scale\n",
    "                   filter_channel = False,  # Set to False to retain all original channels\n",
    "                   channel = None,          # If 'filter_channel' is True, provide indices of channels to keep; otherwise, set to None\n",
    "                   has_label = True)        # If True, generates a .txt file with corresponding labels for further label encoding\n",
    "                                            "
   ]
  },
  {
   "cell_type": "markdown",
   "id": "1253f7ce-b39c-419b-918b-9c59f7ec81c3",
   "metadata": {},
   "source": [
    "This function generates small crops of the original images and saves them in the \"marker_patch\" folder. The output format is `.pt`, a PyTorch tensor object.\n",
    "\n",
    "The output of this process includes:\n",
    "\n",
    "- **label/**: Contains `.txt` files listing the original names of the labels.\n",
    "- **csv_file/**: Contains `.csv` files with the direct paths to the output `.pt` tensor files.\n",
    "- **marker_patch/**: Contains the cropped cell images saved as `.pt` PyTorch tensor objects.\n",
    "- **datasetfake_counts.pkl**: A dictionary that contains the number of pseudo-masks generated for each marker."
   ]
  },
  {
   "cell_type": "markdown",
   "id": "1e983f8d-4861-4c39-b637-b35bf03cefbf",
   "metadata": {},
   "source": [
    "### 2. Segmentation version\n",
    "This is an example of \"Segmentation version\" using one cropped extravillous trophoblasts marker and mask."
   ]
  },
  {
   "cell_type": "code",
   "execution_count": 3,
   "id": "6ac5f2d2-bf22-45a1-87ac-5110ceb45314",
   "metadata": {},
   "outputs": [
    {
     "name": "stdout",
     "output_type": "stream",
     "text": [
      "Number of mask images: 1\n",
      "Mask shape: (500, 500)\n"
     ]
    }
   ],
   "source": [
    "import os\n",
    "from create_dictionary import create_cell_pos_dict\n",
    "\n",
    "# No metadata provided, so we need to generate a dictionary.\n",
    "# The keys represent cell indices, and the values are all the corresponding pixel (x, y) coordinates.\n",
    "\n",
    "base_dir = \"/projects/murphylab/cell_phenotyping/data_process_example/example_data_segmentation\"      \n",
    "mask_path = os.path.join(base_dir, 'mask')\n",
    "create_cell_pos_dict(base_dir,mask_path)"
   ]
  },
  {
   "cell_type": "markdown",
   "id": "f69479c7-0316-4d68-90fe-b28d29eef7ff",
   "metadata": {},
   "source": [
    "The output of this step is a folder named \"cell_position_dictionary\" inside 'base_dir', which contains dictionaries. Each dictionary holds the cell position information for a single marker.\n"
   ]
  },
  {
   "cell_type": "code",
   "execution_count": 4,
   "id": "244b2964-a574-41d1-9adb-3377278637c8",
   "metadata": {},
   "outputs": [
    {
     "name": "stdout",
     "output_type": "stream",
     "text": [
      "['8_31738_6_17_mask.tiff']\n",
      "['8_31738_6_17_marker.tif']\n",
      "8_31738_6_17_mask.tiff\n",
      "8_31738_6_17_marker.tif\n",
      "Mask reading finished\n",
      "Marker reading finished\n"
     ]
    },
    {
     "name": "stderr",
     "output_type": "stream",
     "text": [
      "100%|██████████| 246/246 [00:02<00:00, 97.49it/s] "
     ]
    },
    {
     "name": "stdout",
     "output_type": "stream",
     "text": [
      "Marker file numbers: 246\n",
      "csv_file length: 246\n"
     ]
    },
    {
     "name": "stderr",
     "output_type": "stream",
     "text": [
      "\n"
     ]
    }
   ],
   "source": [
    "from create_dataset import create_dataset_segmentation\n",
    "data_path = base_dir\n",
    "save_path = base_dir\n",
    "\n",
    "create_dataset_segmentation(data_path,\n",
    "                    save_path, # save_path can be modified if we want to save it to another folder\n",
    "                    patch_size = 40,  \n",
    "                    skip_norm = True # because this dataset has already been normalized, so set skip_norm as true\n",
    "                    )"
   ]
  },
  {
   "cell_type": "markdown",
   "id": "b2e1d3f6-7c30-4757-8e4e-1f20651a3564",
   "metadata": {},
   "source": [
    "This function generates small crops of the original images and saves them in the \"marker_patch\" folder. The output format is `.pt`, a PyTorch tensor object.\n",
    "\n",
    "The output of this process includes:\n",
    "\n",
    "- **csv_file/**: Contains `.csv` files with the direct paths to the output `.pt` tensor files.\n",
    "- **marker_patch/**: Contains the cropped cell images saved as `.pt` PyTorch tensor objects."
   ]
  },
  {
   "cell_type": "markdown",
   "id": "ad6d4926-d5ba-4b63-b0fb-ade8270352a4",
   "metadata": {},
   "source": [
    "Visualization of the tensor generated."
   ]
  },
  {
   "cell_type": "code",
   "execution_count": 5,
   "id": "b51fad38-9ca9-4687-b9fc-8eda066c566a",
   "metadata": {},
   "outputs": [
    {
     "data": {
      "image/png": "[encoded data removed]",
      "text/plain": [
       "<Figure size 1500x1500 with 32 Axes>"
      ]
     },
     "metadata": {},
     "output_type": "display_data"
    }
   ],
   "source": [
    "import matplotlib.pyplot as plt\n",
    "import torch\n",
    "tensor = torch.load(\"example_data_segmentation/dataset/marker_patch/8_31738_6_17_mask.tiff/882.pt\") # randomly select one tensor\n",
    "rows = 4\n",
    "cols = 8\n",
    "fig, axs = plt.subplots(rows, cols, figsize=(15, 15))\n",
    "\n",
    "for i in range(32):\n",
    "    row = i // cols \n",
    "    col = i % cols \n",
    "    axs[row, col].imshow(tensor[i], cmap='gray')\n",
    "    axs[row, col].axis('off')  \n",
    "\n",
    "plt.tight_layout()\n",
    "plt.show()"
   ]
  },
  {
   "cell_type": "code",
   "execution_count": null,
   "id": "ac223d17-08a2-4f18-b7a3-f65b4572521a",
   "metadata": {},
   "outputs": [],
   "source": []
  }
 ],
 "metadata": {
  "kernelspec": {
   "display_name": "vqvae",
   "language": "python",
   "name": "vqvae"
  },
  "language_info": {
   "codemirror_mode": {
    "name": "ipython",
    "version": 3
   },
   "file_extension": ".py",
   "mimetype": "text/x-python",
   "name": "python",
   "nbconvert_exporter": "python",
   "pygments_lexer": "ipython3",
   "version": "3.11.4"
  }
 },
 "nbformat": 4,
 "nbformat_minor": 5
}
